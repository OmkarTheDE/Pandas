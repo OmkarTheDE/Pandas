{
 "cells": [
  {
   "cell_type": "markdown",
   "id": "4769bacb-ac18-43e0-9c70-84f57cdc014f",
   "metadata": {},
   "source": [
    "Here are 50 practical questions on pandas:\n",
    "\n",
    "\n",
    "\n",
    "\n",
    "\n",
    "Data Transformation\n",
    "\n",
    "1. How to melt a DataFrame?\n",
    "2. How to pivot a DataFrame?\n",
    "3. How to stack a DataFrame?\n",
    "4. How to unstack a DataFrame?\n",
    "5. How to transpose a DataFrame?\n",
    "\n",
    "Data Selection\n",
    "\n",
    "1. How to select rows based on a condition?\n",
    "2. How to select columns based on a condition?\n",
    "3. How to select rows and columns based on conditions?\n",
    "4. How to use label-based selection?\n",
    "5. How to use position-based selection?\n",
    "\n",
    "\n",
    "\n",
    "Data Visualization\n",
    "\n",
    "1. How to create a line plot?\n",
    "2. How to create a bar plot?\n",
    "3. How to create a histogram?\n",
    "4. How to create a scatter plot?\n",
    "5. How to create a box plot?\n",
    "\n",
    "Advanced Topics\n",
    "\n",
    "1. How to use the apply function?\n",
    "2. How to use the map function?\n",
    "3. How to use the lambda function?\n",
    "4. How to use the groupby-apply function?\n",
    "5. How to use the pivot_table function?\n",
    "\n",
    "Let me know if you want me to help with any specific question!"
   ]
  },
  {
   "cell_type": "markdown",
   "id": "9cacc6b8-bfa9-4d62-8eb1-262dbacd1b4a",
   "metadata": {},
   "source": [
    "# Data Manipulation"
   ]
  },
  {
   "cell_type": "markdown",
   "id": "7c58da05-730c-4a24-9c23-71c0b5e4dad8",
   "metadata": {},
   "source": [
    "## 1. How to create a new DataFrame from a dictionary?"
   ]
  },
  {
   "cell_type": "code",
   "execution_count": 228,
   "id": "10725dde-243f-4789-a9fe-c27a0bc084e4",
   "metadata": {},
   "outputs": [],
   "source": [
    "import pandas as pd"
   ]
  },
  {
   "cell_type": "code",
   "execution_count": 229,
   "id": "a96fa7c0-9389-4e58-a608-d3b3e56c85bd",
   "metadata": {},
   "outputs": [],
   "source": [
    "employee_info={\n",
    "\n",
    "    'Emp_id':[1,2,3,4,5,6,7,8,9,10,11],\n",
    "    'Name':['anisha','sakshi','poonam','omkar','ganesh','samiksha','devanand','vishnu','govind',\"gayatri\",'shamal'],\n",
    "    'Age':[21,20,19,20,21,22,19,18,23,20,19,],\n",
    "    'Location':['parbhani','nanded','parbhani','pune','aurangabad','mumbai','nashik','nanded','amravati','beed','nanded'],\n",
    "    'Department_id':[102,104,103,101,101,103,105,103,102,101,104],\n",
    "    'Department_name':[\"data science\",'HR','production','devlopment','devlopment','production','marketing','production',\"data science\",'devlopment','HR'],\n",
    "    'Salary':[52000,65600,95000,104440,98000,50000,45000,620000,104440,98000,50000,]\n",
    "\n",
    "}"
   ]
  },
  {
   "cell_type": "code",
   "execution_count": 230,
   "id": "88ee891c-e604-49a9-9947-a504fe64b1b0",
   "metadata": {},
   "outputs": [],
   "source": [
    "emp_df=pd.DataFrame(employee_info)"
   ]
  },
  {
   "cell_type": "code",
   "execution_count": 231,
   "id": "46f85451-f355-457e-8f79-13a6d5593001",
   "metadata": {},
   "outputs": [
    {
     "data": {
      "text/html": [
       "<div>\n",
       "<style scoped>\n",
       "    .dataframe tbody tr th:only-of-type {\n",
       "        vertical-align: middle;\n",
       "    }\n",
       "\n",
       "    .dataframe tbody tr th {\n",
       "        vertical-align: top;\n",
       "    }\n",
       "\n",
       "    .dataframe thead th {\n",
       "        text-align: right;\n",
       "    }\n",
       "</style>\n",
       "<table border=\"1\" class=\"dataframe\">\n",
       "  <thead>\n",
       "    <tr style=\"text-align: right;\">\n",
       "      <th></th>\n",
       "      <th>Emp_id</th>\n",
       "      <th>Name</th>\n",
       "      <th>Age</th>\n",
       "      <th>Location</th>\n",
       "      <th>Department_id</th>\n",
       "      <th>Department_name</th>\n",
       "      <th>Salary</th>\n",
       "    </tr>\n",
       "  </thead>\n",
       "  <tbody>\n",
       "    <tr>\n",
       "      <th>0</th>\n",
       "      <td>1</td>\n",
       "      <td>anisha</td>\n",
       "      <td>21</td>\n",
       "      <td>parbhani</td>\n",
       "      <td>102</td>\n",
       "      <td>data science</td>\n",
       "      <td>52000</td>\n",
       "    </tr>\n",
       "    <tr>\n",
       "      <th>1</th>\n",
       "      <td>2</td>\n",
       "      <td>sakshi</td>\n",
       "      <td>20</td>\n",
       "      <td>nanded</td>\n",
       "      <td>104</td>\n",
       "      <td>HR</td>\n",
       "      <td>65600</td>\n",
       "    </tr>\n",
       "    <tr>\n",
       "      <th>2</th>\n",
       "      <td>3</td>\n",
       "      <td>poonam</td>\n",
       "      <td>19</td>\n",
       "      <td>parbhani</td>\n",
       "      <td>103</td>\n",
       "      <td>production</td>\n",
       "      <td>95000</td>\n",
       "    </tr>\n",
       "    <tr>\n",
       "      <th>3</th>\n",
       "      <td>4</td>\n",
       "      <td>omkar</td>\n",
       "      <td>20</td>\n",
       "      <td>pune</td>\n",
       "      <td>101</td>\n",
       "      <td>devlopment</td>\n",
       "      <td>104440</td>\n",
       "    </tr>\n",
       "    <tr>\n",
       "      <th>4</th>\n",
       "      <td>5</td>\n",
       "      <td>ganesh</td>\n",
       "      <td>21</td>\n",
       "      <td>aurangabad</td>\n",
       "      <td>101</td>\n",
       "      <td>devlopment</td>\n",
       "      <td>98000</td>\n",
       "    </tr>\n",
       "    <tr>\n",
       "      <th>5</th>\n",
       "      <td>6</td>\n",
       "      <td>samiksha</td>\n",
       "      <td>22</td>\n",
       "      <td>mumbai</td>\n",
       "      <td>103</td>\n",
       "      <td>production</td>\n",
       "      <td>50000</td>\n",
       "    </tr>\n",
       "    <tr>\n",
       "      <th>6</th>\n",
       "      <td>7</td>\n",
       "      <td>devanand</td>\n",
       "      <td>19</td>\n",
       "      <td>nashik</td>\n",
       "      <td>105</td>\n",
       "      <td>marketing</td>\n",
       "      <td>45000</td>\n",
       "    </tr>\n",
       "    <tr>\n",
       "      <th>7</th>\n",
       "      <td>8</td>\n",
       "      <td>vishnu</td>\n",
       "      <td>18</td>\n",
       "      <td>nanded</td>\n",
       "      <td>103</td>\n",
       "      <td>production</td>\n",
       "      <td>620000</td>\n",
       "    </tr>\n",
       "    <tr>\n",
       "      <th>8</th>\n",
       "      <td>9</td>\n",
       "      <td>govind</td>\n",
       "      <td>23</td>\n",
       "      <td>amravati</td>\n",
       "      <td>102</td>\n",
       "      <td>data science</td>\n",
       "      <td>104440</td>\n",
       "    </tr>\n",
       "    <tr>\n",
       "      <th>9</th>\n",
       "      <td>10</td>\n",
       "      <td>gayatri</td>\n",
       "      <td>20</td>\n",
       "      <td>beed</td>\n",
       "      <td>101</td>\n",
       "      <td>devlopment</td>\n",
       "      <td>98000</td>\n",
       "    </tr>\n",
       "    <tr>\n",
       "      <th>10</th>\n",
       "      <td>11</td>\n",
       "      <td>shamal</td>\n",
       "      <td>19</td>\n",
       "      <td>nanded</td>\n",
       "      <td>104</td>\n",
       "      <td>HR</td>\n",
       "      <td>50000</td>\n",
       "    </tr>\n",
       "  </tbody>\n",
       "</table>\n",
       "</div>"
      ],
      "text/plain": [
       "    Emp_id      Name  Age    Location  Department_id Department_name  Salary\n",
       "0        1    anisha   21    parbhani            102    data science   52000\n",
       "1        2    sakshi   20      nanded            104              HR   65600\n",
       "2        3    poonam   19    parbhani            103      production   95000\n",
       "3        4     omkar   20        pune            101      devlopment  104440\n",
       "4        5    ganesh   21  aurangabad            101      devlopment   98000\n",
       "5        6  samiksha   22      mumbai            103      production   50000\n",
       "6        7  devanand   19      nashik            105       marketing   45000\n",
       "7        8    vishnu   18      nanded            103      production  620000\n",
       "8        9    govind   23    amravati            102    data science  104440\n",
       "9       10   gayatri   20        beed            101      devlopment   98000\n",
       "10      11    shamal   19      nanded            104              HR   50000"
      ]
     },
     "execution_count": 231,
     "metadata": {},
     "output_type": "execute_result"
    }
   ],
   "source": [
    "emp_df"
   ]
  },
  {
   "cell_type": "markdown",
   "id": "6e3f971d-c6ec-4e76-8a1e-f47f792730cd",
   "metadata": {},
   "source": [
    "## 2. How to select a specific column from a DataFrame?"
   ]
  },
  {
   "cell_type": "code",
   "execution_count": 232,
   "id": "3cf4101d-c23c-499c-adfd-43df7ea7fb3b",
   "metadata": {},
   "outputs": [
    {
     "data": {
      "text/html": [
       "<div>\n",
       "<style scoped>\n",
       "    .dataframe tbody tr th:only-of-type {\n",
       "        vertical-align: middle;\n",
       "    }\n",
       "\n",
       "    .dataframe tbody tr th {\n",
       "        vertical-align: top;\n",
       "    }\n",
       "\n",
       "    .dataframe thead th {\n",
       "        text-align: right;\n",
       "    }\n",
       "</style>\n",
       "<table border=\"1\" class=\"dataframe\">\n",
       "  <thead>\n",
       "    <tr style=\"text-align: right;\">\n",
       "      <th></th>\n",
       "      <th>Name</th>\n",
       "      <th>Age</th>\n",
       "    </tr>\n",
       "  </thead>\n",
       "  <tbody>\n",
       "    <tr>\n",
       "      <th>0</th>\n",
       "      <td>anisha</td>\n",
       "      <td>21</td>\n",
       "    </tr>\n",
       "    <tr>\n",
       "      <th>1</th>\n",
       "      <td>sakshi</td>\n",
       "      <td>20</td>\n",
       "    </tr>\n",
       "    <tr>\n",
       "      <th>2</th>\n",
       "      <td>poonam</td>\n",
       "      <td>19</td>\n",
       "    </tr>\n",
       "    <tr>\n",
       "      <th>3</th>\n",
       "      <td>omkar</td>\n",
       "      <td>20</td>\n",
       "    </tr>\n",
       "    <tr>\n",
       "      <th>4</th>\n",
       "      <td>ganesh</td>\n",
       "      <td>21</td>\n",
       "    </tr>\n",
       "    <tr>\n",
       "      <th>5</th>\n",
       "      <td>samiksha</td>\n",
       "      <td>22</td>\n",
       "    </tr>\n",
       "    <tr>\n",
       "      <th>6</th>\n",
       "      <td>devanand</td>\n",
       "      <td>19</td>\n",
       "    </tr>\n",
       "    <tr>\n",
       "      <th>7</th>\n",
       "      <td>vishnu</td>\n",
       "      <td>18</td>\n",
       "    </tr>\n",
       "    <tr>\n",
       "      <th>8</th>\n",
       "      <td>govind</td>\n",
       "      <td>23</td>\n",
       "    </tr>\n",
       "    <tr>\n",
       "      <th>9</th>\n",
       "      <td>gayatri</td>\n",
       "      <td>20</td>\n",
       "    </tr>\n",
       "    <tr>\n",
       "      <th>10</th>\n",
       "      <td>shamal</td>\n",
       "      <td>19</td>\n",
       "    </tr>\n",
       "  </tbody>\n",
       "</table>\n",
       "</div>"
      ],
      "text/plain": [
       "        Name  Age\n",
       "0     anisha   21\n",
       "1     sakshi   20\n",
       "2     poonam   19\n",
       "3      omkar   20\n",
       "4     ganesh   21\n",
       "5   samiksha   22\n",
       "6   devanand   19\n",
       "7     vishnu   18\n",
       "8     govind   23\n",
       "9    gayatri   20\n",
       "10    shamal   19"
      ]
     },
     "execution_count": 232,
     "metadata": {},
     "output_type": "execute_result"
    }
   ],
   "source": [
    "emp_df[[\"Name\",\"Age\"]]"
   ]
  },
  {
   "cell_type": "markdown",
   "id": "8365ca7b-ab78-4097-9640-60a059d14421",
   "metadata": {},
   "source": [
    "## 3. How to filter rows based on a condition?"
   ]
  },
  {
   "cell_type": "code",
   "execution_count": 233,
   "id": "2571dfac-5855-4f7c-a843-06338d13ddf6",
   "metadata": {},
   "outputs": [
    {
     "data": {
      "text/html": [
       "<div>\n",
       "<style scoped>\n",
       "    .dataframe tbody tr th:only-of-type {\n",
       "        vertical-align: middle;\n",
       "    }\n",
       "\n",
       "    .dataframe tbody tr th {\n",
       "        vertical-align: top;\n",
       "    }\n",
       "\n",
       "    .dataframe thead th {\n",
       "        text-align: right;\n",
       "    }\n",
       "</style>\n",
       "<table border=\"1\" class=\"dataframe\">\n",
       "  <thead>\n",
       "    <tr style=\"text-align: right;\">\n",
       "      <th></th>\n",
       "      <th>Emp_id</th>\n",
       "      <th>Name</th>\n",
       "      <th>Age</th>\n",
       "      <th>Location</th>\n",
       "      <th>Department_id</th>\n",
       "      <th>Department_name</th>\n",
       "      <th>Salary</th>\n",
       "    </tr>\n",
       "  </thead>\n",
       "  <tbody>\n",
       "    <tr>\n",
       "      <th>0</th>\n",
       "      <td>1</td>\n",
       "      <td>anisha</td>\n",
       "      <td>21</td>\n",
       "      <td>parbhani</td>\n",
       "      <td>102</td>\n",
       "      <td>data science</td>\n",
       "      <td>52000</td>\n",
       "    </tr>\n",
       "    <tr>\n",
       "      <th>1</th>\n",
       "      <td>2</td>\n",
       "      <td>sakshi</td>\n",
       "      <td>20</td>\n",
       "      <td>nanded</td>\n",
       "      <td>104</td>\n",
       "      <td>HR</td>\n",
       "      <td>65600</td>\n",
       "    </tr>\n",
       "    <tr>\n",
       "      <th>2</th>\n",
       "      <td>3</td>\n",
       "      <td>poonam</td>\n",
       "      <td>19</td>\n",
       "      <td>parbhani</td>\n",
       "      <td>103</td>\n",
       "      <td>production</td>\n",
       "      <td>95000</td>\n",
       "    </tr>\n",
       "    <tr>\n",
       "      <th>3</th>\n",
       "      <td>4</td>\n",
       "      <td>omkar</td>\n",
       "      <td>20</td>\n",
       "      <td>pune</td>\n",
       "      <td>101</td>\n",
       "      <td>devlopment</td>\n",
       "      <td>104440</td>\n",
       "    </tr>\n",
       "    <tr>\n",
       "      <th>4</th>\n",
       "      <td>5</td>\n",
       "      <td>ganesh</td>\n",
       "      <td>21</td>\n",
       "      <td>aurangabad</td>\n",
       "      <td>101</td>\n",
       "      <td>devlopment</td>\n",
       "      <td>98000</td>\n",
       "    </tr>\n",
       "    <tr>\n",
       "      <th>5</th>\n",
       "      <td>6</td>\n",
       "      <td>samiksha</td>\n",
       "      <td>22</td>\n",
       "      <td>mumbai</td>\n",
       "      <td>103</td>\n",
       "      <td>production</td>\n",
       "      <td>50000</td>\n",
       "    </tr>\n",
       "    <tr>\n",
       "      <th>6</th>\n",
       "      <td>7</td>\n",
       "      <td>devanand</td>\n",
       "      <td>19</td>\n",
       "      <td>nashik</td>\n",
       "      <td>105</td>\n",
       "      <td>marketing</td>\n",
       "      <td>45000</td>\n",
       "    </tr>\n",
       "    <tr>\n",
       "      <th>7</th>\n",
       "      <td>8</td>\n",
       "      <td>vishnu</td>\n",
       "      <td>18</td>\n",
       "      <td>nanded</td>\n",
       "      <td>103</td>\n",
       "      <td>production</td>\n",
       "      <td>620000</td>\n",
       "    </tr>\n",
       "    <tr>\n",
       "      <th>9</th>\n",
       "      <td>10</td>\n",
       "      <td>gayatri</td>\n",
       "      <td>20</td>\n",
       "      <td>beed</td>\n",
       "      <td>101</td>\n",
       "      <td>devlopment</td>\n",
       "      <td>98000</td>\n",
       "    </tr>\n",
       "    <tr>\n",
       "      <th>10</th>\n",
       "      <td>11</td>\n",
       "      <td>shamal</td>\n",
       "      <td>19</td>\n",
       "      <td>nanded</td>\n",
       "      <td>104</td>\n",
       "      <td>HR</td>\n",
       "      <td>50000</td>\n",
       "    </tr>\n",
       "  </tbody>\n",
       "</table>\n",
       "</div>"
      ],
      "text/plain": [
       "    Emp_id      Name  Age    Location  Department_id Department_name  Salary\n",
       "0        1    anisha   21    parbhani            102    data science   52000\n",
       "1        2    sakshi   20      nanded            104              HR   65600\n",
       "2        3    poonam   19    parbhani            103      production   95000\n",
       "3        4     omkar   20        pune            101      devlopment  104440\n",
       "4        5    ganesh   21  aurangabad            101      devlopment   98000\n",
       "5        6  samiksha   22      mumbai            103      production   50000\n",
       "6        7  devanand   19      nashik            105       marketing   45000\n",
       "7        8    vishnu   18      nanded            103      production  620000\n",
       "9       10   gayatri   20        beed            101      devlopment   98000\n",
       "10      11    shamal   19      nanded            104              HR   50000"
      ]
     },
     "execution_count": 233,
     "metadata": {},
     "output_type": "execute_result"
    }
   ],
   "source": [
    "emp_df[emp_df[\"Age\"]<=22]"
   ]
  },
  {
   "cell_type": "markdown",
   "id": "7c8ad619-dceb-4b38-8d2d-7614a8789173",
   "metadata": {},
   "source": [
    "## 4. How to sort a DataFrame by a column?"
   ]
  },
  {
   "cell_type": "code",
   "execution_count": 234,
   "id": "e0aa39c9-90fd-41d5-9c35-fd43b5725c4a",
   "metadata": {},
   "outputs": [
    {
     "data": {
      "text/html": [
       "<div>\n",
       "<style scoped>\n",
       "    .dataframe tbody tr th:only-of-type {\n",
       "        vertical-align: middle;\n",
       "    }\n",
       "\n",
       "    .dataframe tbody tr th {\n",
       "        vertical-align: top;\n",
       "    }\n",
       "\n",
       "    .dataframe thead th {\n",
       "        text-align: right;\n",
       "    }\n",
       "</style>\n",
       "<table border=\"1\" class=\"dataframe\">\n",
       "  <thead>\n",
       "    <tr style=\"text-align: right;\">\n",
       "      <th></th>\n",
       "      <th>Emp_id</th>\n",
       "      <th>Name</th>\n",
       "      <th>Age</th>\n",
       "      <th>Location</th>\n",
       "      <th>Department_id</th>\n",
       "      <th>Department_name</th>\n",
       "      <th>Salary</th>\n",
       "    </tr>\n",
       "  </thead>\n",
       "  <tbody>\n",
       "    <tr>\n",
       "      <th>7</th>\n",
       "      <td>8</td>\n",
       "      <td>vishnu</td>\n",
       "      <td>18</td>\n",
       "      <td>nanded</td>\n",
       "      <td>103</td>\n",
       "      <td>production</td>\n",
       "      <td>620000</td>\n",
       "    </tr>\n",
       "    <tr>\n",
       "      <th>2</th>\n",
       "      <td>3</td>\n",
       "      <td>poonam</td>\n",
       "      <td>19</td>\n",
       "      <td>parbhani</td>\n",
       "      <td>103</td>\n",
       "      <td>production</td>\n",
       "      <td>95000</td>\n",
       "    </tr>\n",
       "    <tr>\n",
       "      <th>6</th>\n",
       "      <td>7</td>\n",
       "      <td>devanand</td>\n",
       "      <td>19</td>\n",
       "      <td>nashik</td>\n",
       "      <td>105</td>\n",
       "      <td>marketing</td>\n",
       "      <td>45000</td>\n",
       "    </tr>\n",
       "    <tr>\n",
       "      <th>10</th>\n",
       "      <td>11</td>\n",
       "      <td>shamal</td>\n",
       "      <td>19</td>\n",
       "      <td>nanded</td>\n",
       "      <td>104</td>\n",
       "      <td>HR</td>\n",
       "      <td>50000</td>\n",
       "    </tr>\n",
       "    <tr>\n",
       "      <th>3</th>\n",
       "      <td>4</td>\n",
       "      <td>omkar</td>\n",
       "      <td>20</td>\n",
       "      <td>pune</td>\n",
       "      <td>101</td>\n",
       "      <td>devlopment</td>\n",
       "      <td>104440</td>\n",
       "    </tr>\n",
       "    <tr>\n",
       "      <th>1</th>\n",
       "      <td>2</td>\n",
       "      <td>sakshi</td>\n",
       "      <td>20</td>\n",
       "      <td>nanded</td>\n",
       "      <td>104</td>\n",
       "      <td>HR</td>\n",
       "      <td>65600</td>\n",
       "    </tr>\n",
       "    <tr>\n",
       "      <th>9</th>\n",
       "      <td>10</td>\n",
       "      <td>gayatri</td>\n",
       "      <td>20</td>\n",
       "      <td>beed</td>\n",
       "      <td>101</td>\n",
       "      <td>devlopment</td>\n",
       "      <td>98000</td>\n",
       "    </tr>\n",
       "    <tr>\n",
       "      <th>0</th>\n",
       "      <td>1</td>\n",
       "      <td>anisha</td>\n",
       "      <td>21</td>\n",
       "      <td>parbhani</td>\n",
       "      <td>102</td>\n",
       "      <td>data science</td>\n",
       "      <td>52000</td>\n",
       "    </tr>\n",
       "    <tr>\n",
       "      <th>4</th>\n",
       "      <td>5</td>\n",
       "      <td>ganesh</td>\n",
       "      <td>21</td>\n",
       "      <td>aurangabad</td>\n",
       "      <td>101</td>\n",
       "      <td>devlopment</td>\n",
       "      <td>98000</td>\n",
       "    </tr>\n",
       "    <tr>\n",
       "      <th>5</th>\n",
       "      <td>6</td>\n",
       "      <td>samiksha</td>\n",
       "      <td>22</td>\n",
       "      <td>mumbai</td>\n",
       "      <td>103</td>\n",
       "      <td>production</td>\n",
       "      <td>50000</td>\n",
       "    </tr>\n",
       "    <tr>\n",
       "      <th>8</th>\n",
       "      <td>9</td>\n",
       "      <td>govind</td>\n",
       "      <td>23</td>\n",
       "      <td>amravati</td>\n",
       "      <td>102</td>\n",
       "      <td>data science</td>\n",
       "      <td>104440</td>\n",
       "    </tr>\n",
       "  </tbody>\n",
       "</table>\n",
       "</div>"
      ],
      "text/plain": [
       "    Emp_id      Name  Age    Location  Department_id Department_name  Salary\n",
       "7        8    vishnu   18      nanded            103      production  620000\n",
       "2        3    poonam   19    parbhani            103      production   95000\n",
       "6        7  devanand   19      nashik            105       marketing   45000\n",
       "10      11    shamal   19      nanded            104              HR   50000\n",
       "3        4     omkar   20        pune            101      devlopment  104440\n",
       "1        2    sakshi   20      nanded            104              HR   65600\n",
       "9       10   gayatri   20        beed            101      devlopment   98000\n",
       "0        1    anisha   21    parbhani            102    data science   52000\n",
       "4        5    ganesh   21  aurangabad            101      devlopment   98000\n",
       "5        6  samiksha   22      mumbai            103      production   50000\n",
       "8        9    govind   23    amravati            102    data science  104440"
      ]
     },
     "execution_count": 234,
     "metadata": {},
     "output_type": "execute_result"
    }
   ],
   "source": [
    "emp_df.sort_values(by=\"Age\",ascending=True)"
   ]
  },
  {
   "cell_type": "markdown",
   "id": "e535a877-51c9-4f8b-bab6-3895527c8046",
   "metadata": {},
   "source": [
    "## 5. How to group data by a column and apply a function?"
   ]
  },
  {
   "cell_type": "code",
   "execution_count": 235,
   "id": "d2bb3e6e-dbc5-44d5-b615-a80c267791c6",
   "metadata": {},
   "outputs": [
    {
     "data": {
      "text/plain": [
       "Department_name\n",
       "HR              2\n",
       "data science    2\n",
       "devlopment      3\n",
       "marketing       1\n",
       "production      3\n",
       "Name: Salary, dtype: int64"
      ]
     },
     "execution_count": 235,
     "metadata": {},
     "output_type": "execute_result"
    }
   ],
   "source": [
    "# calculate category vise count of employees\n",
    "emp_df.groupby(\"Department_name\")[\"Salary\"].count()"
   ]
  },
  {
   "cell_type": "code",
   "execution_count": 236,
   "id": "60a329be-394c-414f-bf76-3345f678cd30",
   "metadata": {},
   "outputs": [
    {
     "data": {
      "text/plain": [
       "Department_name\n",
       "HR              115600\n",
       "data science    156440\n",
       "devlopment      300440\n",
       "marketing        45000\n",
       "production      765000\n",
       "Name: Salary, dtype: int64"
      ]
     },
     "execution_count": 236,
     "metadata": {},
     "output_type": "execute_result"
    }
   ],
   "source": [
    "# calculate sum of salary by deaprtment\n",
    "emp_df.groupby(\"Department_name\")[\"Salary\"].sum()"
   ]
  },
  {
   "cell_type": "code",
   "execution_count": 237,
   "id": "a08a47ba-edcd-4a58-9c87-fc52da535e8f",
   "metadata": {},
   "outputs": [
    {
     "data": {
      "text/plain": [
       "Department_name\n",
       "HR               65600\n",
       "data science    104440\n",
       "devlopment      104440\n",
       "marketing        45000\n",
       "production      620000\n",
       "Name: Salary, dtype: int64"
      ]
     },
     "execution_count": 237,
     "metadata": {},
     "output_type": "execute_result"
    }
   ],
   "source": [
    "# calculate min and max of salary by deaprtment\n",
    "emp_df.groupby(\"Department_name\")[\"Salary\"].min()\n",
    "emp_df.groupby(\"Department_name\")[\"Salary\"].max()"
   ]
  },
  {
   "cell_type": "code",
   "execution_count": 238,
   "id": "08ae2fbf-719e-4339-b1fe-cced07291af1",
   "metadata": {},
   "outputs": [
    {
     "data": {
      "text/plain": [
       "Department_name\n",
       "HR               57800.000000\n",
       "data science     78220.000000\n",
       "devlopment      100146.666667\n",
       "marketing        45000.000000\n",
       "production      255000.000000\n",
       "Name: Salary, dtype: float64"
      ]
     },
     "execution_count": 238,
     "metadata": {},
     "output_type": "execute_result"
    }
   ],
   "source": [
    "# calculate avg of salary by deaprtment\n",
    "emp_df.groupby(\"Department_name\")[\"Salary\"].mean()"
   ]
  },
  {
   "cell_type": "markdown",
   "id": "a14e537c-5d1c-4049-b6f1-b454458677f3",
   "metadata": {},
   "source": [
    "## 6. How to concatenate two DataFrames?"
   ]
  },
  {
   "cell_type": "code",
   "execution_count": 239,
   "id": "159974d9-ae62-465d-bc2b-c76507fb78e5",
   "metadata": {},
   "outputs": [],
   "source": [
    "new_employees={\n",
    "    \"Emp_id\":[12,13,14,14,16],\n",
    "    \"Name\":['preeti','pramod','sandip','sandip','alex'],\n",
    "    'Age':[20,22,19,19,23],\n",
    "    \"Location\":[\"nanded\",'pune','parbhani','parbhani','latur'],\n",
    "    \"Department_id\":[105,102,105,105,104],\n",
    "    \"Department_name\":[\"sales\",\"data science\",\"sales\",\"sales\",\"HR\"],\n",
    "    'Salary':[76000,120000,56000,56000,90000]\n",
    "}"
   ]
  },
  {
   "cell_type": "code",
   "execution_count": 240,
   "id": "f9434d84-0c44-41e3-8f4f-31faeb492487",
   "metadata": {},
   "outputs": [],
   "source": [
    "new_emp_df=pd.DataFrame(new_employees)"
   ]
  },
  {
   "cell_type": "code",
   "execution_count": 241,
   "id": "d6f41055-e4ad-43c8-a504-2cb714695c9b",
   "metadata": {},
   "outputs": [
    {
     "data": {
      "text/html": [
       "<div>\n",
       "<style scoped>\n",
       "    .dataframe tbody tr th:only-of-type {\n",
       "        vertical-align: middle;\n",
       "    }\n",
       "\n",
       "    .dataframe tbody tr th {\n",
       "        vertical-align: top;\n",
       "    }\n",
       "\n",
       "    .dataframe thead th {\n",
       "        text-align: right;\n",
       "    }\n",
       "</style>\n",
       "<table border=\"1\" class=\"dataframe\">\n",
       "  <thead>\n",
       "    <tr style=\"text-align: right;\">\n",
       "      <th></th>\n",
       "      <th>Emp_id</th>\n",
       "      <th>Name</th>\n",
       "      <th>Age</th>\n",
       "      <th>Location</th>\n",
       "      <th>Department_id</th>\n",
       "      <th>Department_name</th>\n",
       "      <th>Salary</th>\n",
       "    </tr>\n",
       "  </thead>\n",
       "  <tbody>\n",
       "    <tr>\n",
       "      <th>0</th>\n",
       "      <td>12</td>\n",
       "      <td>preeti</td>\n",
       "      <td>20</td>\n",
       "      <td>nanded</td>\n",
       "      <td>105</td>\n",
       "      <td>sales</td>\n",
       "      <td>76000</td>\n",
       "    </tr>\n",
       "    <tr>\n",
       "      <th>1</th>\n",
       "      <td>13</td>\n",
       "      <td>pramod</td>\n",
       "      <td>22</td>\n",
       "      <td>pune</td>\n",
       "      <td>102</td>\n",
       "      <td>data science</td>\n",
       "      <td>120000</td>\n",
       "    </tr>\n",
       "    <tr>\n",
       "      <th>2</th>\n",
       "      <td>14</td>\n",
       "      <td>sandip</td>\n",
       "      <td>19</td>\n",
       "      <td>parbhani</td>\n",
       "      <td>105</td>\n",
       "      <td>sales</td>\n",
       "      <td>56000</td>\n",
       "    </tr>\n",
       "    <tr>\n",
       "      <th>3</th>\n",
       "      <td>14</td>\n",
       "      <td>sandip</td>\n",
       "      <td>19</td>\n",
       "      <td>parbhani</td>\n",
       "      <td>105</td>\n",
       "      <td>sales</td>\n",
       "      <td>56000</td>\n",
       "    </tr>\n",
       "    <tr>\n",
       "      <th>4</th>\n",
       "      <td>16</td>\n",
       "      <td>alex</td>\n",
       "      <td>23</td>\n",
       "      <td>latur</td>\n",
       "      <td>104</td>\n",
       "      <td>HR</td>\n",
       "      <td>90000</td>\n",
       "    </tr>\n",
       "  </tbody>\n",
       "</table>\n",
       "</div>"
      ],
      "text/plain": [
       "   Emp_id    Name  Age  Location  Department_id Department_name  Salary\n",
       "0      12  preeti   20    nanded            105           sales   76000\n",
       "1      13  pramod   22      pune            102    data science  120000\n",
       "2      14  sandip   19  parbhani            105           sales   56000\n",
       "3      14  sandip   19  parbhani            105           sales   56000\n",
       "4      16    alex   23     latur            104              HR   90000"
      ]
     },
     "execution_count": 241,
     "metadata": {},
     "output_type": "execute_result"
    }
   ],
   "source": [
    "new_emp_df"
   ]
  },
  {
   "cell_type": "code",
   "execution_count": 242,
   "id": "409ffa95-ecff-4b6a-8aeb-49311616b7b2",
   "metadata": {},
   "outputs": [],
   "source": [
    "concate_df=pd.concat([emp_df,new_emp_df],ignore_index=True)"
   ]
  },
  {
   "cell_type": "code",
   "execution_count": 243,
   "id": "a8e8e9ab-7f66-48f4-8f02-97cf1dcb29a1",
   "metadata": {},
   "outputs": [
    {
     "data": {
      "text/html": [
       "<div>\n",
       "<style scoped>\n",
       "    .dataframe tbody tr th:only-of-type {\n",
       "        vertical-align: middle;\n",
       "    }\n",
       "\n",
       "    .dataframe tbody tr th {\n",
       "        vertical-align: top;\n",
       "    }\n",
       "\n",
       "    .dataframe thead th {\n",
       "        text-align: right;\n",
       "    }\n",
       "</style>\n",
       "<table border=\"1\" class=\"dataframe\">\n",
       "  <thead>\n",
       "    <tr style=\"text-align: right;\">\n",
       "      <th></th>\n",
       "      <th>Emp_id</th>\n",
       "      <th>Name</th>\n",
       "      <th>Age</th>\n",
       "      <th>Location</th>\n",
       "      <th>Department_id</th>\n",
       "      <th>Department_name</th>\n",
       "      <th>Salary</th>\n",
       "    </tr>\n",
       "  </thead>\n",
       "  <tbody>\n",
       "    <tr>\n",
       "      <th>0</th>\n",
       "      <td>1</td>\n",
       "      <td>anisha</td>\n",
       "      <td>21</td>\n",
       "      <td>parbhani</td>\n",
       "      <td>102</td>\n",
       "      <td>data science</td>\n",
       "      <td>52000</td>\n",
       "    </tr>\n",
       "    <tr>\n",
       "      <th>1</th>\n",
       "      <td>2</td>\n",
       "      <td>sakshi</td>\n",
       "      <td>20</td>\n",
       "      <td>nanded</td>\n",
       "      <td>104</td>\n",
       "      <td>HR</td>\n",
       "      <td>65600</td>\n",
       "    </tr>\n",
       "    <tr>\n",
       "      <th>2</th>\n",
       "      <td>3</td>\n",
       "      <td>poonam</td>\n",
       "      <td>19</td>\n",
       "      <td>parbhani</td>\n",
       "      <td>103</td>\n",
       "      <td>production</td>\n",
       "      <td>95000</td>\n",
       "    </tr>\n",
       "    <tr>\n",
       "      <th>3</th>\n",
       "      <td>4</td>\n",
       "      <td>omkar</td>\n",
       "      <td>20</td>\n",
       "      <td>pune</td>\n",
       "      <td>101</td>\n",
       "      <td>devlopment</td>\n",
       "      <td>104440</td>\n",
       "    </tr>\n",
       "    <tr>\n",
       "      <th>4</th>\n",
       "      <td>5</td>\n",
       "      <td>ganesh</td>\n",
       "      <td>21</td>\n",
       "      <td>aurangabad</td>\n",
       "      <td>101</td>\n",
       "      <td>devlopment</td>\n",
       "      <td>98000</td>\n",
       "    </tr>\n",
       "    <tr>\n",
       "      <th>5</th>\n",
       "      <td>6</td>\n",
       "      <td>samiksha</td>\n",
       "      <td>22</td>\n",
       "      <td>mumbai</td>\n",
       "      <td>103</td>\n",
       "      <td>production</td>\n",
       "      <td>50000</td>\n",
       "    </tr>\n",
       "    <tr>\n",
       "      <th>6</th>\n",
       "      <td>7</td>\n",
       "      <td>devanand</td>\n",
       "      <td>19</td>\n",
       "      <td>nashik</td>\n",
       "      <td>105</td>\n",
       "      <td>marketing</td>\n",
       "      <td>45000</td>\n",
       "    </tr>\n",
       "    <tr>\n",
       "      <th>7</th>\n",
       "      <td>8</td>\n",
       "      <td>vishnu</td>\n",
       "      <td>18</td>\n",
       "      <td>nanded</td>\n",
       "      <td>103</td>\n",
       "      <td>production</td>\n",
       "      <td>620000</td>\n",
       "    </tr>\n",
       "    <tr>\n",
       "      <th>8</th>\n",
       "      <td>9</td>\n",
       "      <td>govind</td>\n",
       "      <td>23</td>\n",
       "      <td>amravati</td>\n",
       "      <td>102</td>\n",
       "      <td>data science</td>\n",
       "      <td>104440</td>\n",
       "    </tr>\n",
       "    <tr>\n",
       "      <th>9</th>\n",
       "      <td>10</td>\n",
       "      <td>gayatri</td>\n",
       "      <td>20</td>\n",
       "      <td>beed</td>\n",
       "      <td>101</td>\n",
       "      <td>devlopment</td>\n",
       "      <td>98000</td>\n",
       "    </tr>\n",
       "    <tr>\n",
       "      <th>10</th>\n",
       "      <td>11</td>\n",
       "      <td>shamal</td>\n",
       "      <td>19</td>\n",
       "      <td>nanded</td>\n",
       "      <td>104</td>\n",
       "      <td>HR</td>\n",
       "      <td>50000</td>\n",
       "    </tr>\n",
       "    <tr>\n",
       "      <th>11</th>\n",
       "      <td>12</td>\n",
       "      <td>preeti</td>\n",
       "      <td>20</td>\n",
       "      <td>nanded</td>\n",
       "      <td>105</td>\n",
       "      <td>sales</td>\n",
       "      <td>76000</td>\n",
       "    </tr>\n",
       "    <tr>\n",
       "      <th>12</th>\n",
       "      <td>13</td>\n",
       "      <td>pramod</td>\n",
       "      <td>22</td>\n",
       "      <td>pune</td>\n",
       "      <td>102</td>\n",
       "      <td>data science</td>\n",
       "      <td>120000</td>\n",
       "    </tr>\n",
       "    <tr>\n",
       "      <th>13</th>\n",
       "      <td>14</td>\n",
       "      <td>sandip</td>\n",
       "      <td>19</td>\n",
       "      <td>parbhani</td>\n",
       "      <td>105</td>\n",
       "      <td>sales</td>\n",
       "      <td>56000</td>\n",
       "    </tr>\n",
       "    <tr>\n",
       "      <th>14</th>\n",
       "      <td>14</td>\n",
       "      <td>sandip</td>\n",
       "      <td>19</td>\n",
       "      <td>parbhani</td>\n",
       "      <td>105</td>\n",
       "      <td>sales</td>\n",
       "      <td>56000</td>\n",
       "    </tr>\n",
       "    <tr>\n",
       "      <th>15</th>\n",
       "      <td>16</td>\n",
       "      <td>alex</td>\n",
       "      <td>23</td>\n",
       "      <td>latur</td>\n",
       "      <td>104</td>\n",
       "      <td>HR</td>\n",
       "      <td>90000</td>\n",
       "    </tr>\n",
       "  </tbody>\n",
       "</table>\n",
       "</div>"
      ],
      "text/plain": [
       "    Emp_id      Name  Age    Location  Department_id Department_name  Salary\n",
       "0        1    anisha   21    parbhani            102    data science   52000\n",
       "1        2    sakshi   20      nanded            104              HR   65600\n",
       "2        3    poonam   19    parbhani            103      production   95000\n",
       "3        4     omkar   20        pune            101      devlopment  104440\n",
       "4        5    ganesh   21  aurangabad            101      devlopment   98000\n",
       "5        6  samiksha   22      mumbai            103      production   50000\n",
       "6        7  devanand   19      nashik            105       marketing   45000\n",
       "7        8    vishnu   18      nanded            103      production  620000\n",
       "8        9    govind   23    amravati            102    data science  104440\n",
       "9       10   gayatri   20        beed            101      devlopment   98000\n",
       "10      11    shamal   19      nanded            104              HR   50000\n",
       "11      12    preeti   20      nanded            105           sales   76000\n",
       "12      13    pramod   22        pune            102    data science  120000\n",
       "13      14    sandip   19    parbhani            105           sales   56000\n",
       "14      14    sandip   19    parbhani            105           sales   56000\n",
       "15      16      alex   23       latur            104              HR   90000"
      ]
     },
     "execution_count": 243,
     "metadata": {},
     "output_type": "execute_result"
    }
   ],
   "source": [
    "concate_df"
   ]
  },
  {
   "cell_type": "markdown",
   "id": "9f07c1e5-fd28-48b5-9124-1a4833961738",
   "metadata": {},
   "source": [
    "## How to merge two DataFrames?"
   ]
  },
  {
   "cell_type": "code",
   "execution_count": 244,
   "id": "daede919-0f09-4968-8c3c-1e4fcacbb97f",
   "metadata": {},
   "outputs": [],
   "source": [
    "df1_for_merge=concate_df[['Emp_id','Name','Age','Location']]"
   ]
  },
  {
   "cell_type": "code",
   "execution_count": 245,
   "id": "7955e320-17fb-4ad5-b4a3-09894107dab1",
   "metadata": {},
   "outputs": [
    {
     "data": {
      "text/html": [
       "<div>\n",
       "<style scoped>\n",
       "    .dataframe tbody tr th:only-of-type {\n",
       "        vertical-align: middle;\n",
       "    }\n",
       "\n",
       "    .dataframe tbody tr th {\n",
       "        vertical-align: top;\n",
       "    }\n",
       "\n",
       "    .dataframe thead th {\n",
       "        text-align: right;\n",
       "    }\n",
       "</style>\n",
       "<table border=\"1\" class=\"dataframe\">\n",
       "  <thead>\n",
       "    <tr style=\"text-align: right;\">\n",
       "      <th></th>\n",
       "      <th>Emp_id</th>\n",
       "      <th>Name</th>\n",
       "      <th>Age</th>\n",
       "      <th>Location</th>\n",
       "    </tr>\n",
       "  </thead>\n",
       "  <tbody>\n",
       "    <tr>\n",
       "      <th>0</th>\n",
       "      <td>1</td>\n",
       "      <td>anisha</td>\n",
       "      <td>21</td>\n",
       "      <td>parbhani</td>\n",
       "    </tr>\n",
       "    <tr>\n",
       "      <th>1</th>\n",
       "      <td>2</td>\n",
       "      <td>sakshi</td>\n",
       "      <td>20</td>\n",
       "      <td>nanded</td>\n",
       "    </tr>\n",
       "    <tr>\n",
       "      <th>2</th>\n",
       "      <td>3</td>\n",
       "      <td>poonam</td>\n",
       "      <td>19</td>\n",
       "      <td>parbhani</td>\n",
       "    </tr>\n",
       "    <tr>\n",
       "      <th>3</th>\n",
       "      <td>4</td>\n",
       "      <td>omkar</td>\n",
       "      <td>20</td>\n",
       "      <td>pune</td>\n",
       "    </tr>\n",
       "    <tr>\n",
       "      <th>4</th>\n",
       "      <td>5</td>\n",
       "      <td>ganesh</td>\n",
       "      <td>21</td>\n",
       "      <td>aurangabad</td>\n",
       "    </tr>\n",
       "  </tbody>\n",
       "</table>\n",
       "</div>"
      ],
      "text/plain": [
       "   Emp_id    Name  Age    Location\n",
       "0       1  anisha   21    parbhani\n",
       "1       2  sakshi   20      nanded\n",
       "2       3  poonam   19    parbhani\n",
       "3       4   omkar   20        pune\n",
       "4       5  ganesh   21  aurangabad"
      ]
     },
     "execution_count": 245,
     "metadata": {},
     "output_type": "execute_result"
    }
   ],
   "source": [
    "df1_for_merge.head()"
   ]
  },
  {
   "cell_type": "code",
   "execution_count": 246,
   "id": "a25d0b52-234d-468b-964f-5bab2cb49abc",
   "metadata": {},
   "outputs": [],
   "source": [
    "df2_for_merge=concate_df[[\"Emp_id\",'Department_id','Department_name','Salary']]"
   ]
  },
  {
   "cell_type": "code",
   "execution_count": 247,
   "id": "f02255f4-f5e7-4b9d-a9a8-e838e0ccaaa1",
   "metadata": {},
   "outputs": [
    {
     "data": {
      "text/html": [
       "<div>\n",
       "<style scoped>\n",
       "    .dataframe tbody tr th:only-of-type {\n",
       "        vertical-align: middle;\n",
       "    }\n",
       "\n",
       "    .dataframe tbody tr th {\n",
       "        vertical-align: top;\n",
       "    }\n",
       "\n",
       "    .dataframe thead th {\n",
       "        text-align: right;\n",
       "    }\n",
       "</style>\n",
       "<table border=\"1\" class=\"dataframe\">\n",
       "  <thead>\n",
       "    <tr style=\"text-align: right;\">\n",
       "      <th></th>\n",
       "      <th>Emp_id</th>\n",
       "      <th>Department_id</th>\n",
       "      <th>Department_name</th>\n",
       "      <th>Salary</th>\n",
       "    </tr>\n",
       "  </thead>\n",
       "  <tbody>\n",
       "    <tr>\n",
       "      <th>0</th>\n",
       "      <td>1</td>\n",
       "      <td>102</td>\n",
       "      <td>data science</td>\n",
       "      <td>52000</td>\n",
       "    </tr>\n",
       "    <tr>\n",
       "      <th>1</th>\n",
       "      <td>2</td>\n",
       "      <td>104</td>\n",
       "      <td>HR</td>\n",
       "      <td>65600</td>\n",
       "    </tr>\n",
       "    <tr>\n",
       "      <th>2</th>\n",
       "      <td>3</td>\n",
       "      <td>103</td>\n",
       "      <td>production</td>\n",
       "      <td>95000</td>\n",
       "    </tr>\n",
       "    <tr>\n",
       "      <th>3</th>\n",
       "      <td>4</td>\n",
       "      <td>101</td>\n",
       "      <td>devlopment</td>\n",
       "      <td>104440</td>\n",
       "    </tr>\n",
       "    <tr>\n",
       "      <th>4</th>\n",
       "      <td>5</td>\n",
       "      <td>101</td>\n",
       "      <td>devlopment</td>\n",
       "      <td>98000</td>\n",
       "    </tr>\n",
       "  </tbody>\n",
       "</table>\n",
       "</div>"
      ],
      "text/plain": [
       "   Emp_id  Department_id Department_name  Salary\n",
       "0       1            102    data science   52000\n",
       "1       2            104              HR   65600\n",
       "2       3            103      production   95000\n",
       "3       4            101      devlopment  104440\n",
       "4       5            101      devlopment   98000"
      ]
     },
     "execution_count": 247,
     "metadata": {},
     "output_type": "execute_result"
    }
   ],
   "source": [
    "df2_for_merge.head()"
   ]
  },
  {
   "cell_type": "code",
   "execution_count": 248,
   "id": "0cd46793-cc43-4a88-aef8-133dfc32e33b",
   "metadata": {},
   "outputs": [],
   "source": [
    "merge_df=df1_for_merge.merge(df2_for_merge,on='Emp_id',how='inner')"
   ]
  },
  {
   "cell_type": "code",
   "execution_count": 249,
   "id": "f5154797-5c70-4d23-a128-dc75f4962e15",
   "metadata": {},
   "outputs": [
    {
     "data": {
      "text/html": [
       "<div>\n",
       "<style scoped>\n",
       "    .dataframe tbody tr th:only-of-type {\n",
       "        vertical-align: middle;\n",
       "    }\n",
       "\n",
       "    .dataframe tbody tr th {\n",
       "        vertical-align: top;\n",
       "    }\n",
       "\n",
       "    .dataframe thead th {\n",
       "        text-align: right;\n",
       "    }\n",
       "</style>\n",
       "<table border=\"1\" class=\"dataframe\">\n",
       "  <thead>\n",
       "    <tr style=\"text-align: right;\">\n",
       "      <th></th>\n",
       "      <th>Emp_id</th>\n",
       "      <th>Name</th>\n",
       "      <th>Age</th>\n",
       "      <th>Location</th>\n",
       "      <th>Department_id</th>\n",
       "      <th>Department_name</th>\n",
       "      <th>Salary</th>\n",
       "    </tr>\n",
       "  </thead>\n",
       "  <tbody>\n",
       "    <tr>\n",
       "      <th>0</th>\n",
       "      <td>1</td>\n",
       "      <td>anisha</td>\n",
       "      <td>21</td>\n",
       "      <td>parbhani</td>\n",
       "      <td>102</td>\n",
       "      <td>data science</td>\n",
       "      <td>52000</td>\n",
       "    </tr>\n",
       "    <tr>\n",
       "      <th>1</th>\n",
       "      <td>2</td>\n",
       "      <td>sakshi</td>\n",
       "      <td>20</td>\n",
       "      <td>nanded</td>\n",
       "      <td>104</td>\n",
       "      <td>HR</td>\n",
       "      <td>65600</td>\n",
       "    </tr>\n",
       "    <tr>\n",
       "      <th>2</th>\n",
       "      <td>3</td>\n",
       "      <td>poonam</td>\n",
       "      <td>19</td>\n",
       "      <td>parbhani</td>\n",
       "      <td>103</td>\n",
       "      <td>production</td>\n",
       "      <td>95000</td>\n",
       "    </tr>\n",
       "    <tr>\n",
       "      <th>3</th>\n",
       "      <td>4</td>\n",
       "      <td>omkar</td>\n",
       "      <td>20</td>\n",
       "      <td>pune</td>\n",
       "      <td>101</td>\n",
       "      <td>devlopment</td>\n",
       "      <td>104440</td>\n",
       "    </tr>\n",
       "    <tr>\n",
       "      <th>4</th>\n",
       "      <td>5</td>\n",
       "      <td>ganesh</td>\n",
       "      <td>21</td>\n",
       "      <td>aurangabad</td>\n",
       "      <td>101</td>\n",
       "      <td>devlopment</td>\n",
       "      <td>98000</td>\n",
       "    </tr>\n",
       "  </tbody>\n",
       "</table>\n",
       "</div>"
      ],
      "text/plain": [
       "   Emp_id    Name  Age    Location  Department_id Department_name  Salary\n",
       "0       1  anisha   21    parbhani            102    data science   52000\n",
       "1       2  sakshi   20      nanded            104              HR   65600\n",
       "2       3  poonam   19    parbhani            103      production   95000\n",
       "3       4   omkar   20        pune            101      devlopment  104440\n",
       "4       5  ganesh   21  aurangabad            101      devlopment   98000"
      ]
     },
     "execution_count": 249,
     "metadata": {},
     "output_type": "execute_result"
    }
   ],
   "source": [
    "merge_df.head()"
   ]
  },
  {
   "cell_type": "markdown",
   "id": "91a5b914-cacd-4027-9b31-a5e752c2eda6",
   "metadata": {},
   "source": [
    "## 8. How to remove duplicates from a DataFrame?"
   ]
  },
  {
   "cell_type": "code",
   "execution_count": 250,
   "id": "a2f9a43f-aab7-4e3e-b356-132346166657",
   "metadata": {},
   "outputs": [
    {
     "data": {
      "text/plain": [
       "(18, 7)"
      ]
     },
     "execution_count": 250,
     "metadata": {},
     "output_type": "execute_result"
    }
   ],
   "source": [
    "merge_df.shape"
   ]
  },
  {
   "cell_type": "code",
   "execution_count": 251,
   "id": "a4e3560a-af6a-4116-a841-16b700a679c5",
   "metadata": {},
   "outputs": [],
   "source": [
    "rmv_duplicates=merge_df.drop_duplicates()"
   ]
  },
  {
   "cell_type": "code",
   "execution_count": 252,
   "id": "66253972-8233-4d26-966f-5001ef06844b",
   "metadata": {},
   "outputs": [
    {
     "data": {
      "text/html": [
       "<div>\n",
       "<style scoped>\n",
       "    .dataframe tbody tr th:only-of-type {\n",
       "        vertical-align: middle;\n",
       "    }\n",
       "\n",
       "    .dataframe tbody tr th {\n",
       "        vertical-align: top;\n",
       "    }\n",
       "\n",
       "    .dataframe thead th {\n",
       "        text-align: right;\n",
       "    }\n",
       "</style>\n",
       "<table border=\"1\" class=\"dataframe\">\n",
       "  <thead>\n",
       "    <tr style=\"text-align: right;\">\n",
       "      <th></th>\n",
       "      <th>Emp_id</th>\n",
       "      <th>Name</th>\n",
       "      <th>Age</th>\n",
       "      <th>Location</th>\n",
       "      <th>Department_id</th>\n",
       "      <th>Department_name</th>\n",
       "      <th>Salary</th>\n",
       "    </tr>\n",
       "  </thead>\n",
       "  <tbody>\n",
       "    <tr>\n",
       "      <th>0</th>\n",
       "      <td>1</td>\n",
       "      <td>anisha</td>\n",
       "      <td>21</td>\n",
       "      <td>parbhani</td>\n",
       "      <td>102</td>\n",
       "      <td>data science</td>\n",
       "      <td>52000</td>\n",
       "    </tr>\n",
       "    <tr>\n",
       "      <th>1</th>\n",
       "      <td>2</td>\n",
       "      <td>sakshi</td>\n",
       "      <td>20</td>\n",
       "      <td>nanded</td>\n",
       "      <td>104</td>\n",
       "      <td>HR</td>\n",
       "      <td>65600</td>\n",
       "    </tr>\n",
       "    <tr>\n",
       "      <th>2</th>\n",
       "      <td>3</td>\n",
       "      <td>poonam</td>\n",
       "      <td>19</td>\n",
       "      <td>parbhani</td>\n",
       "      <td>103</td>\n",
       "      <td>production</td>\n",
       "      <td>95000</td>\n",
       "    </tr>\n",
       "    <tr>\n",
       "      <th>3</th>\n",
       "      <td>4</td>\n",
       "      <td>omkar</td>\n",
       "      <td>20</td>\n",
       "      <td>pune</td>\n",
       "      <td>101</td>\n",
       "      <td>devlopment</td>\n",
       "      <td>104440</td>\n",
       "    </tr>\n",
       "    <tr>\n",
       "      <th>4</th>\n",
       "      <td>5</td>\n",
       "      <td>ganesh</td>\n",
       "      <td>21</td>\n",
       "      <td>aurangabad</td>\n",
       "      <td>101</td>\n",
       "      <td>devlopment</td>\n",
       "      <td>98000</td>\n",
       "    </tr>\n",
       "  </tbody>\n",
       "</table>\n",
       "</div>"
      ],
      "text/plain": [
       "   Emp_id    Name  Age    Location  Department_id Department_name  Salary\n",
       "0       1  anisha   21    parbhani            102    data science   52000\n",
       "1       2  sakshi   20      nanded            104              HR   65600\n",
       "2       3  poonam   19    parbhani            103      production   95000\n",
       "3       4   omkar   20        pune            101      devlopment  104440\n",
       "4       5  ganesh   21  aurangabad            101      devlopment   98000"
      ]
     },
     "execution_count": 252,
     "metadata": {},
     "output_type": "execute_result"
    }
   ],
   "source": [
    "rmv_duplicates.head()"
   ]
  },
  {
   "cell_type": "code",
   "execution_count": 253,
   "id": "e2b1070c-a41d-4d1d-a6c0-da70bca6d06e",
   "metadata": {},
   "outputs": [
    {
     "data": {
      "text/plain": [
       "(15, 7)"
      ]
     },
     "execution_count": 253,
     "metadata": {},
     "output_type": "execute_result"
    }
   ],
   "source": [
    "rmv_duplicates.shape"
   ]
  },
  {
   "cell_type": "markdown",
   "id": "d4ae55bb-575e-40c6-b631-1a0916dc835d",
   "metadata": {},
   "source": [
    "## 9. How to rename columns in a DataFrame?"
   ]
  },
  {
   "cell_type": "code",
   "execution_count": 254,
   "id": "f186b4d7-8a30-4c2f-bdd0-bbbd735d95e7",
   "metadata": {},
   "outputs": [
    {
     "data": {
      "text/plain": [
       "Index(['Emp_id', 'Name', 'Age', 'Location', 'Department_id', 'Department_name',\n",
       "       'Salary'],\n",
       "      dtype='object')"
      ]
     },
     "execution_count": 254,
     "metadata": {},
     "output_type": "execute_result"
    }
   ],
   "source": [
    "rmv_duplicates.columns"
   ]
  },
  {
   "cell_type": "code",
   "execution_count": 255,
   "id": "9d137904-d46a-4dba-8468-2b0117be07b4",
   "metadata": {},
   "outputs": [],
   "source": [
    "rename_columns=rmv_duplicates.rename(columns={\"Location\":'Address','Department_id':'Dept_id',\"Department_name\":\"Dept_name\"})"
   ]
  },
  {
   "cell_type": "code",
   "execution_count": 256,
   "id": "857f30df-0c86-4689-b35d-852ee72fb4f6",
   "metadata": {},
   "outputs": [
    {
     "data": {
      "text/plain": [
       "Index(['Emp_id', 'Name', 'Age', 'Address', 'Dept_id', 'Dept_name', 'Salary'], dtype='object')"
      ]
     },
     "execution_count": 256,
     "metadata": {},
     "output_type": "execute_result"
    }
   ],
   "source": [
    "rename_columns.columns"
   ]
  },
  {
   "cell_type": "markdown",
   "id": "436a6b48-a214-4e53-805d-876882f004c6",
   "metadata": {},
   "source": [
    "## 10. How to change the data type of a column?"
   ]
  },
  {
   "cell_type": "code",
   "execution_count": 257,
   "id": "7f85501a-2c5c-4f18-a8b6-58e691879541",
   "metadata": {},
   "outputs": [
    {
     "data": {
      "text/plain": [
       "Emp_id        int64\n",
       "Name         object\n",
       "Age           int64\n",
       "Address      object\n",
       "Dept_id       int64\n",
       "Dept_name    object\n",
       "Salary        int64\n",
       "dtype: object"
      ]
     },
     "execution_count": 257,
     "metadata": {},
     "output_type": "execute_result"
    }
   ],
   "source": [
    "rename_columns.dtypes"
   ]
  },
  {
   "cell_type": "code",
   "execution_count": 258,
   "id": "fdffb1fc-df08-4df2-9248-862b5aaeb271",
   "metadata": {},
   "outputs": [],
   "source": [
    "rename_columns[[\"Age\",\"Salary\"]]=rename_columns[[\"Age\",\"Salary\"]].astype(float)"
   ]
  },
  {
   "cell_type": "code",
   "execution_count": 259,
   "id": "5ecb4c93-eb12-43f4-8d71-b171afb106f3",
   "metadata": {},
   "outputs": [
    {
     "data": {
      "text/plain": [
       "Emp_id         int64\n",
       "Name          object\n",
       "Age          float64\n",
       "Address       object\n",
       "Dept_id        int64\n",
       "Dept_name     object\n",
       "Salary       float64\n",
       "dtype: object"
      ]
     },
     "execution_count": 259,
     "metadata": {},
     "output_type": "execute_result"
    }
   ],
   "source": [
    "rename_columns.dtypes"
   ]
  },
  {
   "cell_type": "markdown",
   "id": "aba0bb75",
   "metadata": {},
   "source": [
    "# Data Analysis"
   ]
  },
  {
   "cell_type": "markdown",
   "id": "3cf725ad-14f2-40dc-b127-55425dbab9f2",
   "metadata": {},
   "source": [
    "\n",
    "\n",
    "\n",
    "\n",
    "\n",
    "\n",
    "5. How to create a cross-tabulation table?\n",
    "\n",
    "7. How to perform a rolling window operation?\n",
    "8. How to perform an expanding window operation?\n",
    "9. How to calculate the cumulative sum of a column?\n",
    "10. How to calculate the moving average of a column?"
   ]
  },
  {
   "cell_type": "markdown",
   "id": "4d32badd-4f36-4191-90c9-a9a11bc89b8e",
   "metadata": {},
   "source": [
    "## 1. How to calculate the mean of a column?"
   ]
  },
  {
   "cell_type": "code",
   "execution_count": 260,
   "id": "59b17291-2ba7-47dc-8a5c-870967c04e02",
   "metadata": {},
   "outputs": [],
   "source": [
    "avg=rename_columns.groupby(\"Dept_name\")[\"Salary\"].mean()"
   ]
  },
  {
   "cell_type": "code",
   "execution_count": 261,
   "id": "d3200517-b1b7-4e68-a84f-b9ea96fc575e",
   "metadata": {},
   "outputs": [
    {
     "data": {
      "text/plain": [
       "Dept_name\n",
       "HR               68533.333333\n",
       "data science     92146.666667\n",
       "devlopment      100146.666667\n",
       "marketing        45000.000000\n",
       "production      255000.000000\n",
       "sales            66000.000000\n",
       "Name: Salary, dtype: float64"
      ]
     },
     "execution_count": 261,
     "metadata": {},
     "output_type": "execute_result"
    }
   ],
   "source": [
    "avg"
   ]
  },
  {
   "cell_type": "markdown",
   "id": "8f1ee9e5-f57f-4b46-a751-57caddc47d29",
   "metadata": {},
   "source": [
    "## 2. How to calculate the standard deviation of a column?"
   ]
  },
  {
   "cell_type": "code",
   "execution_count": 262,
   "id": "11c55364-fb15-4a89-a9c1-6fc69d942231",
   "metadata": {},
   "outputs": [],
   "source": [
    "standard_deviation=rename_columns.groupby(\"Dept_name\")[\"Salary\"].std()"
   ]
  },
  {
   "cell_type": "code",
   "execution_count": 263,
   "id": "c2a3da41-65da-4317-b164-ce0a45f3ecd8",
   "metadata": {},
   "outputs": [
    {
     "data": {
      "text/plain": [
       "Dept_name\n",
       "HR               20160.687819\n",
       "data science     35627.861756\n",
       "devlopment        3718.135734\n",
       "marketing                 NaN\n",
       "production      316899.037550\n",
       "sales            14142.135624\n",
       "Name: Salary, dtype: float64"
      ]
     },
     "execution_count": 263,
     "metadata": {},
     "output_type": "execute_result"
    }
   ],
   "source": [
    "standard_deviation"
   ]
  },
  {
   "cell_type": "markdown",
   "id": "a6ef1c88-b42b-4700-88ee-93856bf3f0a9",
   "metadata": {},
   "source": [
    "## 3. How to calculate the correlation between two columns?"
   ]
  },
  {
   "cell_type": "code",
   "execution_count": 264,
   "id": "6e154022-17b7-4eaa-9acf-52d943f64714",
   "metadata": {},
   "outputs": [],
   "source": [
    "corr=rename_columns['Age'].corr(rename_columns[\"Salary\"])"
   ]
  },
  {
   "cell_type": "code",
   "execution_count": 265,
   "id": "57efc61e-6671-4c1f-8e05-8c001635694d",
   "metadata": {},
   "outputs": [
    {
     "data": {
      "text/plain": [
       "np.float64(-0.3583874475550895)"
      ]
     },
     "execution_count": 265,
     "metadata": {},
     "output_type": "execute_result"
    }
   ],
   "source": [
    "corr"
   ]
  },
  {
   "cell_type": "code",
   "execution_count": 266,
   "id": "dbc478d0-7c19-41c3-8f93-251d113aa187",
   "metadata": {},
   "outputs": [],
   "source": [
    "numeric_df=rename_columns.select_dtypes(exclude=object)\n",
    "matrix_corr=numeric_df.corr()"
   ]
  },
  {
   "cell_type": "code",
   "execution_count": 267,
   "id": "a5319286-a300-41a7-aa46-3c1792782477",
   "metadata": {},
   "outputs": [
    {
     "data": {
      "text/html": [
       "<div>\n",
       "<style scoped>\n",
       "    .dataframe tbody tr th:only-of-type {\n",
       "        vertical-align: middle;\n",
       "    }\n",
       "\n",
       "    .dataframe tbody tr th {\n",
       "        vertical-align: top;\n",
       "    }\n",
       "\n",
       "    .dataframe thead th {\n",
       "        text-align: right;\n",
       "    }\n",
       "</style>\n",
       "<table border=\"1\" class=\"dataframe\">\n",
       "  <thead>\n",
       "    <tr style=\"text-align: right;\">\n",
       "      <th></th>\n",
       "      <th>Emp_id</th>\n",
       "      <th>Age</th>\n",
       "      <th>Dept_id</th>\n",
       "      <th>Salary</th>\n",
       "    </tr>\n",
       "  </thead>\n",
       "  <tbody>\n",
       "    <tr>\n",
       "      <th>Emp_id</th>\n",
       "      <td>1.000000</td>\n",
       "      <td>0.196890</td>\n",
       "      <td>0.361457</td>\n",
       "      <td>0.022615</td>\n",
       "    </tr>\n",
       "    <tr>\n",
       "      <th>Age</th>\n",
       "      <td>0.196890</td>\n",
       "      <td>1.000000</td>\n",
       "      <td>-0.314970</td>\n",
       "      <td>-0.358387</td>\n",
       "    </tr>\n",
       "    <tr>\n",
       "      <th>Dept_id</th>\n",
       "      <td>0.361457</td>\n",
       "      <td>-0.314970</td>\n",
       "      <td>1.000000</td>\n",
       "      <td>-0.109305</td>\n",
       "    </tr>\n",
       "    <tr>\n",
       "      <th>Salary</th>\n",
       "      <td>0.022615</td>\n",
       "      <td>-0.358387</td>\n",
       "      <td>-0.109305</td>\n",
       "      <td>1.000000</td>\n",
       "    </tr>\n",
       "  </tbody>\n",
       "</table>\n",
       "</div>"
      ],
      "text/plain": [
       "           Emp_id       Age   Dept_id    Salary\n",
       "Emp_id   1.000000  0.196890  0.361457  0.022615\n",
       "Age      0.196890  1.000000 -0.314970 -0.358387\n",
       "Dept_id  0.361457 -0.314970  1.000000 -0.109305\n",
       "Salary   0.022615 -0.358387 -0.109305  1.000000"
      ]
     },
     "execution_count": 267,
     "metadata": {},
     "output_type": "execute_result"
    }
   ],
   "source": [
    "matrix_corr"
   ]
  },
  {
   "cell_type": "markdown",
   "id": "734bfeab-6048-4741-a1d4-bf0c9def43da",
   "metadata": {},
   "source": [
    " ## 4. How to create a pivot table?"
   ]
  },
  {
   "cell_type": "code",
   "execution_count": 268,
   "id": "e04ff1ef-6a25-4a3b-81bb-4ece3bbceb69",
   "metadata": {},
   "outputs": [],
   "source": [
    "# pivot_table=pd.pivot_table(rename_columns,values=\"Salary\",aggfunc=sum)"
   ]
  },
  {
   "cell_type": "markdown",
   "id": "e9053673",
   "metadata": {},
   "source": [
    "## 6. How to perform a groupby operation?"
   ]
  },
  {
   "cell_type": "code",
   "execution_count": 269,
   "id": "d9722ee1",
   "metadata": {},
   "outputs": [],
   "source": [
    "group_by=rename_columns.groupby(\"Dept_name\")[\"Salary\"].agg(func=[\"count\",\"mean\",\"sum\",'min','max'])"
   ]
  },
  {
   "cell_type": "code",
   "execution_count": 270,
   "id": "6a9e391a",
   "metadata": {},
   "outputs": [
    {
     "data": {
      "text/html": [
       "<div>\n",
       "<style scoped>\n",
       "    .dataframe tbody tr th:only-of-type {\n",
       "        vertical-align: middle;\n",
       "    }\n",
       "\n",
       "    .dataframe tbody tr th {\n",
       "        vertical-align: top;\n",
       "    }\n",
       "\n",
       "    .dataframe thead th {\n",
       "        text-align: right;\n",
       "    }\n",
       "</style>\n",
       "<table border=\"1\" class=\"dataframe\">\n",
       "  <thead>\n",
       "    <tr style=\"text-align: right;\">\n",
       "      <th></th>\n",
       "      <th>count</th>\n",
       "      <th>mean</th>\n",
       "      <th>sum</th>\n",
       "      <th>min</th>\n",
       "      <th>max</th>\n",
       "    </tr>\n",
       "    <tr>\n",
       "      <th>Dept_name</th>\n",
       "      <th></th>\n",
       "      <th></th>\n",
       "      <th></th>\n",
       "      <th></th>\n",
       "      <th></th>\n",
       "    </tr>\n",
       "  </thead>\n",
       "  <tbody>\n",
       "    <tr>\n",
       "      <th>HR</th>\n",
       "      <td>3</td>\n",
       "      <td>68533.333333</td>\n",
       "      <td>205600.0</td>\n",
       "      <td>50000.0</td>\n",
       "      <td>90000.0</td>\n",
       "    </tr>\n",
       "    <tr>\n",
       "      <th>data science</th>\n",
       "      <td>3</td>\n",
       "      <td>92146.666667</td>\n",
       "      <td>276440.0</td>\n",
       "      <td>52000.0</td>\n",
       "      <td>120000.0</td>\n",
       "    </tr>\n",
       "    <tr>\n",
       "      <th>devlopment</th>\n",
       "      <td>3</td>\n",
       "      <td>100146.666667</td>\n",
       "      <td>300440.0</td>\n",
       "      <td>98000.0</td>\n",
       "      <td>104440.0</td>\n",
       "    </tr>\n",
       "    <tr>\n",
       "      <th>marketing</th>\n",
       "      <td>1</td>\n",
       "      <td>45000.000000</td>\n",
       "      <td>45000.0</td>\n",
       "      <td>45000.0</td>\n",
       "      <td>45000.0</td>\n",
       "    </tr>\n",
       "    <tr>\n",
       "      <th>production</th>\n",
       "      <td>3</td>\n",
       "      <td>255000.000000</td>\n",
       "      <td>765000.0</td>\n",
       "      <td>50000.0</td>\n",
       "      <td>620000.0</td>\n",
       "    </tr>\n",
       "    <tr>\n",
       "      <th>sales</th>\n",
       "      <td>2</td>\n",
       "      <td>66000.000000</td>\n",
       "      <td>132000.0</td>\n",
       "      <td>56000.0</td>\n",
       "      <td>76000.0</td>\n",
       "    </tr>\n",
       "  </tbody>\n",
       "</table>\n",
       "</div>"
      ],
      "text/plain": [
       "              count           mean       sum      min       max\n",
       "Dept_name                                                      \n",
       "HR                3   68533.333333  205600.0  50000.0   90000.0\n",
       "data science      3   92146.666667  276440.0  52000.0  120000.0\n",
       "devlopment        3  100146.666667  300440.0  98000.0  104440.0\n",
       "marketing         1   45000.000000   45000.0  45000.0   45000.0\n",
       "production        3  255000.000000  765000.0  50000.0  620000.0\n",
       "sales             2   66000.000000  132000.0  56000.0   76000.0"
      ]
     },
     "execution_count": 270,
     "metadata": {},
     "output_type": "execute_result"
    }
   ],
   "source": [
    "group_by"
   ]
  },
  {
   "cell_type": "markdown",
   "id": "9bfbd683",
   "metadata": {},
   "source": [
    "# Data Input/Output"
   ]
  },
  {
   "cell_type": "markdown",
   "id": "0ef70aab",
   "metadata": {},
   "source": [
    "## 1. How to write a DataFrame to a CSV file?"
   ]
  },
  {
   "cell_type": "code",
   "execution_count": 279,
   "id": "16ef868b",
   "metadata": {},
   "outputs": [
    {
     "name": "stdout",
     "output_type": "stream",
     "text": [
      "Csv File write successfully..!\n"
     ]
    }
   ],
   "source": [
    "rename_columns.to_csv(\"Employees_info_2.csv\",index=False)\n",
    "print(\"Csv File write successfully..!\")"
   ]
  },
  {
   "cell_type": "markdown",
   "id": "09c3d80c",
   "metadata": {},
   "source": [
    "## How to read a CSV file?"
   ]
  },
  {
   "cell_type": "code",
   "execution_count": 283,
   "id": "fe2cacec",
   "metadata": {},
   "outputs": [],
   "source": [
    "emp_df=pd.read_csv(\"Employees_info.csv\")"
   ]
  },
  {
   "cell_type": "code",
   "execution_count": 284,
   "id": "dd7c94c4",
   "metadata": {},
   "outputs": [
    {
     "data": {
      "text/html": [
       "<div>\n",
       "<style scoped>\n",
       "    .dataframe tbody tr th:only-of-type {\n",
       "        vertical-align: middle;\n",
       "    }\n",
       "\n",
       "    .dataframe tbody tr th {\n",
       "        vertical-align: top;\n",
       "    }\n",
       "\n",
       "    .dataframe thead th {\n",
       "        text-align: right;\n",
       "    }\n",
       "</style>\n",
       "<table border=\"1\" class=\"dataframe\">\n",
       "  <thead>\n",
       "    <tr style=\"text-align: right;\">\n",
       "      <th></th>\n",
       "      <th>Emp_id</th>\n",
       "      <th>Name</th>\n",
       "      <th>Age</th>\n",
       "      <th>Address</th>\n",
       "      <th>Dept_id</th>\n",
       "      <th>Dept_name</th>\n",
       "      <th>Salary</th>\n",
       "    </tr>\n",
       "  </thead>\n",
       "  <tbody>\n",
       "    <tr>\n",
       "      <th>0</th>\n",
       "      <td>1</td>\n",
       "      <td>anisha</td>\n",
       "      <td>21.0</td>\n",
       "      <td>parbhani</td>\n",
       "      <td>102</td>\n",
       "      <td>data science</td>\n",
       "      <td>52000</td>\n",
       "    </tr>\n",
       "    <tr>\n",
       "      <th>1</th>\n",
       "      <td>2</td>\n",
       "      <td>sakshi</td>\n",
       "      <td>20.0</td>\n",
       "      <td>nanded</td>\n",
       "      <td>104</td>\n",
       "      <td>HR</td>\n",
       "      <td>65600</td>\n",
       "    </tr>\n",
       "    <tr>\n",
       "      <th>2</th>\n",
       "      <td>3</td>\n",
       "      <td>poonam</td>\n",
       "      <td>19.0</td>\n",
       "      <td>parbhani</td>\n",
       "      <td>103</td>\n",
       "      <td>production</td>\n",
       "      <td>95000</td>\n",
       "    </tr>\n",
       "    <tr>\n",
       "      <th>3</th>\n",
       "      <td>4</td>\n",
       "      <td>omkar</td>\n",
       "      <td>20.0</td>\n",
       "      <td>pune</td>\n",
       "      <td>101</td>\n",
       "      <td>devlopment</td>\n",
       "      <td>104440</td>\n",
       "    </tr>\n",
       "    <tr>\n",
       "      <th>4</th>\n",
       "      <td>5</td>\n",
       "      <td>ganesh</td>\n",
       "      <td>21.0</td>\n",
       "      <td>aurangabad</td>\n",
       "      <td>101</td>\n",
       "      <td>devlopment</td>\n",
       "      <td>98000</td>\n",
       "    </tr>\n",
       "  </tbody>\n",
       "</table>\n",
       "</div>"
      ],
      "text/plain": [
       "   Emp_id    Name   Age     Address  Dept_id     Dept_name  Salary\n",
       "0       1  anisha  21.0    parbhani      102  data science   52000\n",
       "1       2  sakshi  20.0      nanded      104            HR   65600\n",
       "2       3  poonam  19.0    parbhani      103    production   95000\n",
       "3       4   omkar  20.0        pune      101    devlopment  104440\n",
       "4       5  ganesh  21.0  aurangabad      101    devlopment   98000"
      ]
     },
     "execution_count": 284,
     "metadata": {},
     "output_type": "execute_result"
    }
   ],
   "source": [
    "emp_df.head()"
   ]
  },
  {
   "cell_type": "markdown",
   "id": "fee0778b",
   "metadata": {},
   "source": [
    "## How to write a DataFrame to an Excel file?"
   ]
  },
  {
   "cell_type": "code",
   "execution_count": 293,
   "id": "b492d6b0",
   "metadata": {},
   "outputs": [],
   "source": [
    "#emp_df.to_excel(\"Employee_Excel.xlsx\")"
   ]
  },
  {
   "cell_type": "markdown",
   "id": "26ae383c",
   "metadata": {},
   "source": [
    "##  How to read an Excel file?"
   ]
  },
  {
   "cell_type": "code",
   "execution_count": 297,
   "id": "ce53da0a",
   "metadata": {},
   "outputs": [],
   "source": [
    "# vote_df=pd.read_excel(\"Votes 2019.xlsx\")"
   ]
  },
  {
   "cell_type": "markdown",
   "id": "182d70a0",
   "metadata": {},
   "source": [
    "## 5. How to read a JSON file?"
   ]
  },
  {
   "cell_type": "code",
   "execution_count": 298,
   "id": "758b6706",
   "metadata": {},
   "outputs": [],
   "source": [
    "# write csv to json\n",
    "emp_df.to_json(\"emp.json\")"
   ]
  },
  {
   "cell_type": "code",
   "execution_count": 299,
   "id": "fcc60c90",
   "metadata": {},
   "outputs": [],
   "source": [
    "# read json file\n",
    "df=pd.read_json(\"emp.json\")"
   ]
  },
  {
   "cell_type": "code",
   "execution_count": 300,
   "id": "69dd7fed",
   "metadata": {},
   "outputs": [
    {
     "data": {
      "text/html": [
       "<div>\n",
       "<style scoped>\n",
       "    .dataframe tbody tr th:only-of-type {\n",
       "        vertical-align: middle;\n",
       "    }\n",
       "\n",
       "    .dataframe tbody tr th {\n",
       "        vertical-align: top;\n",
       "    }\n",
       "\n",
       "    .dataframe thead th {\n",
       "        text-align: right;\n",
       "    }\n",
       "</style>\n",
       "<table border=\"1\" class=\"dataframe\">\n",
       "  <thead>\n",
       "    <tr style=\"text-align: right;\">\n",
       "      <th></th>\n",
       "      <th>Emp_id</th>\n",
       "      <th>Name</th>\n",
       "      <th>Age</th>\n",
       "      <th>Address</th>\n",
       "      <th>Dept_id</th>\n",
       "      <th>Dept_name</th>\n",
       "      <th>Salary</th>\n",
       "    </tr>\n",
       "  </thead>\n",
       "  <tbody>\n",
       "    <tr>\n",
       "      <th>0</th>\n",
       "      <td>1</td>\n",
       "      <td>anisha</td>\n",
       "      <td>21.0</td>\n",
       "      <td>parbhani</td>\n",
       "      <td>102</td>\n",
       "      <td>data science</td>\n",
       "      <td>52000</td>\n",
       "    </tr>\n",
       "    <tr>\n",
       "      <th>1</th>\n",
       "      <td>2</td>\n",
       "      <td>sakshi</td>\n",
       "      <td>20.0</td>\n",
       "      <td>nanded</td>\n",
       "      <td>104</td>\n",
       "      <td>HR</td>\n",
       "      <td>65600</td>\n",
       "    </tr>\n",
       "    <tr>\n",
       "      <th>2</th>\n",
       "      <td>3</td>\n",
       "      <td>poonam</td>\n",
       "      <td>19.0</td>\n",
       "      <td>parbhani</td>\n",
       "      <td>103</td>\n",
       "      <td>production</td>\n",
       "      <td>95000</td>\n",
       "    </tr>\n",
       "    <tr>\n",
       "      <th>3</th>\n",
       "      <td>4</td>\n",
       "      <td>omkar</td>\n",
       "      <td>20.0</td>\n",
       "      <td>pune</td>\n",
       "      <td>101</td>\n",
       "      <td>devlopment</td>\n",
       "      <td>104440</td>\n",
       "    </tr>\n",
       "    <tr>\n",
       "      <th>4</th>\n",
       "      <td>5</td>\n",
       "      <td>ganesh</td>\n",
       "      <td>21.0</td>\n",
       "      <td>aurangabad</td>\n",
       "      <td>101</td>\n",
       "      <td>devlopment</td>\n",
       "      <td>98000</td>\n",
       "    </tr>\n",
       "  </tbody>\n",
       "</table>\n",
       "</div>"
      ],
      "text/plain": [
       "   Emp_id    Name   Age     Address  Dept_id     Dept_name  Salary\n",
       "0       1  anisha  21.0    parbhani      102  data science   52000\n",
       "1       2  sakshi  20.0      nanded      104            HR   65600\n",
       "2       3  poonam  19.0    parbhani      103    production   95000\n",
       "3       4   omkar  20.0        pune      101    devlopment  104440\n",
       "4       5  ganesh  21.0  aurangabad      101    devlopment   98000"
      ]
     },
     "execution_count": 300,
     "metadata": {},
     "output_type": "execute_result"
    }
   ],
   "source": [
    "df.head()"
   ]
  },
  {
   "cell_type": "markdown",
   "id": "6247df4d",
   "metadata": {},
   "source": [
    "\n",
    "Data Cleaning\n",
    "\n",
    "\n",
    "2. How to detect and remove outliers?\n",
    "\n",
    "4. How to fill missing values with a specific value?\n",
    "5. How to replace values in a column?"
   ]
  },
  {
   "cell_type": "markdown",
   "id": "2c9020fc",
   "metadata": {},
   "source": [
    "## 1. How to handle missing values in a DataFrame?"
   ]
  },
  {
   "cell_type": "code",
   "execution_count": 301,
   "id": "57116d20",
   "metadata": {},
   "outputs": [
    {
     "data": {
      "text/plain": [
       "Emp_id       0\n",
       "Name         0\n",
       "Age          3\n",
       "Address      2\n",
       "Dept_id      0\n",
       "Dept_name    0\n",
       "Salary       0\n",
       "dtype: int64"
      ]
     },
     "execution_count": 301,
     "metadata": {},
     "output_type": "execute_result"
    }
   ],
   "source": [
    "emp_df.isnull().sum()\n"
   ]
  },
  {
   "cell_type": "markdown",
   "id": "e80547bc",
   "metadata": {},
   "source": [
    "## 3. How to remove rows with missing values?"
   ]
  },
  {
   "cell_type": "code",
   "execution_count": 302,
   "id": "09a3741e",
   "metadata": {},
   "outputs": [
    {
     "data": {
      "text/plain": [
       "(23, 7)"
      ]
     },
     "execution_count": 302,
     "metadata": {},
     "output_type": "execute_result"
    }
   ],
   "source": [
    "emp_df.shape"
   ]
  },
  {
   "cell_type": "code",
   "execution_count": 304,
   "id": "d517c8b7",
   "metadata": {},
   "outputs": [],
   "source": [
    "emp_df.dropna(inplace=True)"
   ]
  },
  {
   "cell_type": "code",
   "execution_count": 305,
   "id": "9f7dc078",
   "metadata": {},
   "outputs": [
    {
     "data": {
      "text/plain": [
       "(18, 7)"
      ]
     },
     "execution_count": 305,
     "metadata": {},
     "output_type": "execute_result"
    }
   ],
   "source": [
    "emp_df.shape"
   ]
  },
  {
   "cell_type": "code",
   "execution_count": 275,
   "id": "d53c377e",
   "metadata": {},
   "outputs": [
    {
     "data": {
      "text/html": [
       "<div>\n",
       "<style scoped>\n",
       "    .dataframe tbody tr th:only-of-type {\n",
       "        vertical-align: middle;\n",
       "    }\n",
       "\n",
       "    .dataframe tbody tr th {\n",
       "        vertical-align: top;\n",
       "    }\n",
       "\n",
       "    .dataframe thead th {\n",
       "        text-align: right;\n",
       "    }\n",
       "</style>\n",
       "<table border=\"1\" class=\"dataframe\">\n",
       "  <thead>\n",
       "    <tr style=\"text-align: right;\">\n",
       "      <th></th>\n",
       "      <th>Emp_id</th>\n",
       "      <th>Name</th>\n",
       "      <th>Age</th>\n",
       "      <th>Address</th>\n",
       "      <th>Dept_id</th>\n",
       "      <th>Dept_name</th>\n",
       "      <th>Salary</th>\n",
       "    </tr>\n",
       "  </thead>\n",
       "  <tbody>\n",
       "    <tr>\n",
       "      <th>0</th>\n",
       "      <td>1</td>\n",
       "      <td>anisha</td>\n",
       "      <td>21.0</td>\n",
       "      <td>parbhani</td>\n",
       "      <td>102</td>\n",
       "      <td>data science</td>\n",
       "      <td>52000.0</td>\n",
       "    </tr>\n",
       "    <tr>\n",
       "      <th>1</th>\n",
       "      <td>2</td>\n",
       "      <td>sakshi</td>\n",
       "      <td>20.0</td>\n",
       "      <td>nanded</td>\n",
       "      <td>104</td>\n",
       "      <td>HR</td>\n",
       "      <td>65600.0</td>\n",
       "    </tr>\n",
       "    <tr>\n",
       "      <th>2</th>\n",
       "      <td>3</td>\n",
       "      <td>poonam</td>\n",
       "      <td>19.0</td>\n",
       "      <td>parbhani</td>\n",
       "      <td>103</td>\n",
       "      <td>production</td>\n",
       "      <td>95000.0</td>\n",
       "    </tr>\n",
       "    <tr>\n",
       "      <th>3</th>\n",
       "      <td>4</td>\n",
       "      <td>omkar</td>\n",
       "      <td>20.0</td>\n",
       "      <td>pune</td>\n",
       "      <td>101</td>\n",
       "      <td>devlopment</td>\n",
       "      <td>104440.0</td>\n",
       "    </tr>\n",
       "    <tr>\n",
       "      <th>4</th>\n",
       "      <td>5</td>\n",
       "      <td>ganesh</td>\n",
       "      <td>21.0</td>\n",
       "      <td>aurangabad</td>\n",
       "      <td>101</td>\n",
       "      <td>devlopment</td>\n",
       "      <td>98000.0</td>\n",
       "    </tr>\n",
       "  </tbody>\n",
       "</table>\n",
       "</div>"
      ],
      "text/plain": [
       "   Emp_id    Name   Age     Address  Dept_id     Dept_name    Salary\n",
       "0       1  anisha  21.0    parbhani      102  data science   52000.0\n",
       "1       2  sakshi  20.0      nanded      104            HR   65600.0\n",
       "2       3  poonam  19.0    parbhani      103    production   95000.0\n",
       "3       4   omkar  20.0        pune      101    devlopment  104440.0\n",
       "4       5  ganesh  21.0  aurangabad      101    devlopment   98000.0"
      ]
     },
     "execution_count": 275,
     "metadata": {},
     "output_type": "execute_result"
    }
   ],
   "source": []
  },
  {
   "cell_type": "code",
   "execution_count": null,
   "id": "433a63c0",
   "metadata": {},
   "outputs": [],
   "source": []
  },
  {
   "cell_type": "code",
   "execution_count": null,
   "id": "94841019",
   "metadata": {},
   "outputs": [],
   "source": []
  },
  {
   "cell_type": "code",
   "execution_count": null,
   "id": "2174af17",
   "metadata": {},
   "outputs": [],
   "source": []
  }
 ],
 "metadata": {
  "kernelspec": {
   "display_name": "Python 3",
   "language": "python",
   "name": "python3"
  },
  "language_info": {
   "codemirror_mode": {
    "name": "ipython",
    "version": 3
   },
   "file_extension": ".py",
   "mimetype": "text/x-python",
   "name": "python",
   "nbconvert_exporter": "python",
   "pygments_lexer": "ipython3",
   "version": "3.12.2"
  }
 },
 "nbformat": 4,
 "nbformat_minor": 5
}
